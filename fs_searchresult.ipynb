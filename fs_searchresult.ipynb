{
  "nbformat": 4,
  "nbformat_minor": 0,
  "metadata": {
    "colab": {
      "name": "fs_searchresult",
      "provenance": [],
      "toc_visible": true
    },
    "kernelspec": {
      "name": "python3",
      "display_name": "Python 3"
    }
  },
  "cells": [
    {
      "cell_type": "markdown",
      "metadata": {
        "id": "lgcWOs0BygMq",
        "colab_type": "text"
      },
      "source": [
        "# 0.Import\n",
        "import python and file"
      ]
    },
    {
      "cell_type": "code",
      "metadata": {
        "id": "Swgve78zbF0I",
        "colab_type": "code",
        "colab": {}
      },
      "source": [
        "import pandas as pd\n",
        "import numpy as np\n",
        "import seaborn as sns\n",
        "import matplotlib.pyplot as plt\n",
        "from sklearn import preprocessing\n",
        "#%matplotlib inline"
      ],
      "execution_count": 0,
      "outputs": []
    },
    {
      "cell_type": "code",
      "metadata": {
        "id": "HqAUFkO9bcVa",
        "colab_type": "code",
        "colab": {}
      },
      "source": [
        "header = [\"ID\",\"visited_page_url\",\"search_words\",\"use_ip\",\"visited_time\",\"visited_total\",\n",
        "          \"language_id\",\"result_numbers\",\"created_person\",\"updated_person\",\"created_at\",\"updated_at\"]\n",
        "df = pd.read_excel (r'/content/drive/My Drive/fs/search.xlsx', names=header)"
      ],
      "execution_count": 0,
      "outputs": []
    },
    {
      "cell_type": "code",
      "metadata": {
        "id": "GxhXhQkAbjCq",
        "colab_type": "code",
        "outputId": "37092ca2-f364-4910-e7f4-b143fb9ca16a",
        "colab": {
          "base_uri": "https://localhost:8080/",
          "height": 34
        }
      },
      "source": [
        "df.shape"
      ],
      "execution_count": 97,
      "outputs": [
        {
          "output_type": "execute_result",
          "data": {
            "text/plain": [
              "(234184, 12)"
            ]
          },
          "metadata": {
            "tags": []
          },
          "execution_count": 97
        }
      ]
    },
    {
      "cell_type": "markdown",
      "metadata": {
        "id": "wg3gexgazCZ0",
        "colab_type": "text"
      },
      "source": [
        "#1.EDA\n"
      ]
    },
    {
      "cell_type": "markdown",
      "metadata": {
        "id": "XqXAw17OzQb2",
        "colab_type": "text"
      },
      "source": [
        "##1.1 check null"
      ]
    },
    {
      "cell_type": "code",
      "metadata": {
        "id": "0Rmxy1H8dCaV",
        "colab_type": "code",
        "outputId": "23091cea-19c2-4f41-e7ea-05381de2ea9b",
        "colab": {
          "base_uri": "https://localhost:8080/",
          "height": 238
        }
      },
      "source": [
        "df.isnull().sum()"
      ],
      "execution_count": 98,
      "outputs": [
        {
          "output_type": "execute_result",
          "data": {
            "text/plain": [
              "ID                    0\n",
              "visited_page_url      0\n",
              "search_words         12\n",
              "use_ip                0\n",
              "visited_time          0\n",
              "visited_total         0\n",
              "language_id           0\n",
              "result_numbers        0\n",
              "created_person        0\n",
              "updated_person        0\n",
              "created_at            0\n",
              "updated_at          387\n",
              "dtype: int64"
            ]
          },
          "metadata": {
            "tags": []
          },
          "execution_count": 98
        }
      ]
    },
    {
      "cell_type": "code",
      "metadata": {
        "id": "rvHKWsrlfV1n",
        "colab_type": "code",
        "outputId": "6080c2b4-92da-46c6-c2bc-90a6db46ab4d",
        "colab": {
          "base_uri": "https://localhost:8080/",
          "height": 645
        }
      },
      "source": [
        "df[df['search_words'].isnull()]"
      ],
      "execution_count": 99,
      "outputs": [
        {
          "output_type": "execute_result",
          "data": {
            "text/html": [
              "<div>\n",
              "<style scoped>\n",
              "    .dataframe tbody tr th:only-of-type {\n",
              "        vertical-align: middle;\n",
              "    }\n",
              "\n",
              "    .dataframe tbody tr th {\n",
              "        vertical-align: top;\n",
              "    }\n",
              "\n",
              "    .dataframe thead th {\n",
              "        text-align: right;\n",
              "    }\n",
              "</style>\n",
              "<table border=\"1\" class=\"dataframe\">\n",
              "  <thead>\n",
              "    <tr style=\"text-align: right;\">\n",
              "      <th></th>\n",
              "      <th>ID</th>\n",
              "      <th>visited_page_url</th>\n",
              "      <th>search_words</th>\n",
              "      <th>use_ip</th>\n",
              "      <th>visited_time</th>\n",
              "      <th>visited_total</th>\n",
              "      <th>language_id</th>\n",
              "      <th>result_numbers</th>\n",
              "      <th>created_person</th>\n",
              "      <th>updated_person</th>\n",
              "      <th>created_at</th>\n",
              "      <th>updated_at</th>\n",
              "    </tr>\n",
              "  </thead>\n",
              "  <tbody>\n",
              "    <tr>\n",
              "      <th>110710</th>\n",
              "      <td>4258628</td>\n",
              "      <td>https://www.fs.com/de-en/?main_page=advanced_search_result&amp;keyword=-SC+UPC+Duplex+Single+Mode+Fibre+Patch&amp;searchSubmit=%EF%85%83</td>\n",
              "      <td>NaN</td>\n",
              "      <td>45.67.109.7</td>\n",
              "      <td>2020-05-12 00:00:00</td>\n",
              "      <td>1</td>\n",
              "      <td>9</td>\n",
              "      <td>28</td>\n",
              "      <td>0</td>\n",
              "      <td>0</td>\n",
              "      <td>2020-05-12 23:34:43</td>\n",
              "      <td>2020-05-12 23:34:45</td>\n",
              "    </tr>\n",
              "    <tr>\n",
              "      <th>111902</th>\n",
              "      <td>4259820</td>\n",
              "      <td>https://www.fs.com/de-en/keyword/-SC%20UPC%20Duplex%20Single%20Mode%20Fibre%20Patch&amp;style=image&amp;count=24&amp;page=2&amp;searchSubmit=Search</td>\n",
              "      <td>NaN</td>\n",
              "      <td>45.67.109.7</td>\n",
              "      <td>2020-05-13 00:00:00</td>\n",
              "      <td>1</td>\n",
              "      <td>9</td>\n",
              "      <td>28</td>\n",
              "      <td>0</td>\n",
              "      <td>0</td>\n",
              "      <td>2020-05-13 02:49:20</td>\n",
              "      <td>2020-05-13 02:49:22</td>\n",
              "    </tr>\n",
              "    <tr>\n",
              "      <th>141288</th>\n",
              "      <td>4289206</td>\n",
              "      <td>https://www.fs.com/fr/?main_page=advanced_search_result&amp;keyword=%F4%80%80%94%F4%80%80%95%F4%80%80%93%F4%80%80%9B%F4%80%80%98&amp;searchSubmit=%EF%85%83</td>\n",
              "      <td>NaN</td>\n",
              "      <td>185.43.60.130</td>\n",
              "      <td>2020-05-20 00:00:00</td>\n",
              "      <td>1</td>\n",
              "      <td>3</td>\n",
              "      <td>0</td>\n",
              "      <td>0</td>\n",
              "      <td>0</td>\n",
              "      <td>2020-05-20 00:22:45</td>\n",
              "      <td>2020-05-20 00:22:45</td>\n",
              "    </tr>\n",
              "    <tr>\n",
              "      <th>153266</th>\n",
              "      <td>4301184</td>\n",
              "      <td>https://www.fs.com/?main_page=advanced_search_result&amp;keyword=%F4%8F%B0%84%F4%8F%B0%A5%F4%8F%B0%99%F4%8F%B0%84%F4%8F%B0%BB%F4%8F%B0%80%F4%8F%B0%82%F4%8F%B0%82%F4%8F%B0%94%F4%8F%B0%82%F4%8F%B1%86%F4...</td>\n",
              "      <td>NaN</td>\n",
              "      <td>73.61.113.226</td>\n",
              "      <td>2020-05-22 00:00:00</td>\n",
              "      <td>1</td>\n",
              "      <td>1</td>\n",
              "      <td>0</td>\n",
              "      <td>184714</td>\n",
              "      <td>184714</td>\n",
              "      <td>2020-05-22 07:15:53</td>\n",
              "      <td>2020-05-22 07:15:53</td>\n",
              "    </tr>\n",
              "    <tr>\n",
              "      <th>158043</th>\n",
              "      <td>4305961</td>\n",
              "      <td>https://www.fs.com/au/?main_page=advanced_search_result&amp;keyword=-MLX&amp;searchSubmit=%EF%85%83</td>\n",
              "      <td>NaN</td>\n",
              "      <td>114.134.6.41</td>\n",
              "      <td>2020-05-24 00:00:00</td>\n",
              "      <td>1</td>\n",
              "      <td>9</td>\n",
              "      <td>0</td>\n",
              "      <td>238667</td>\n",
              "      <td>238667</td>\n",
              "      <td>2020-05-24 22:23:10</td>\n",
              "      <td>2020-05-24 22:23:10</td>\n",
              "    </tr>\n",
              "    <tr>\n",
              "      <th>164578</th>\n",
              "      <td>4312496</td>\n",
              "      <td>https://www.fs.com/de-en/?main_page=advanced_search_result&amp;keyword=-lx&amp;searchSubmit=%EF%85%83</td>\n",
              "      <td>NaN</td>\n",
              "      <td>213.93.2.84</td>\n",
              "      <td>2020-05-26 00:00:00</td>\n",
              "      <td>1</td>\n",
              "      <td>9</td>\n",
              "      <td>170</td>\n",
              "      <td>108267</td>\n",
              "      <td>108267</td>\n",
              "      <td>2020-05-26 05:45:35</td>\n",
              "      <td>2020-05-26 05:45:36</td>\n",
              "    </tr>\n",
              "    <tr>\n",
              "      <th>176247</th>\n",
              "      <td>4324165</td>\n",
              "      <td>https://www.fs.com/?main_page=advanced_search_result&amp;keyword=-M+Clamp&amp;searchSubmit=%EF%85%83</td>\n",
              "      <td>NaN</td>\n",
              "      <td>187.190.185.133</td>\n",
              "      <td>2020-05-28 00:00:00</td>\n",
              "      <td>1</td>\n",
              "      <td>1</td>\n",
              "      <td>2</td>\n",
              "      <td>0</td>\n",
              "      <td>0</td>\n",
              "      <td>2020-05-28 06:54:07</td>\n",
              "      <td>2020-05-28 06:54:08</td>\n",
              "    </tr>\n",
              "    <tr>\n",
              "      <th>208693</th>\n",
              "      <td>4356611</td>\n",
              "      <td>https://www.fs.com/de-en/?main_page=advanced_search_result&amp;keyword=-BX-10-U&amp;searchSubmit=%EF%85%83</td>\n",
              "      <td>NaN</td>\n",
              "      <td>80.100.130.167</td>\n",
              "      <td>2020-06-05 00:00:00</td>\n",
              "      <td>1</td>\n",
              "      <td>9</td>\n",
              "      <td>620</td>\n",
              "      <td>0</td>\n",
              "      <td>0</td>\n",
              "      <td>2020-06-05 03:48:18</td>\n",
              "      <td>2020-06-05 03:48:19</td>\n",
              "    </tr>\n",
              "    <tr>\n",
              "      <th>212464</th>\n",
              "      <td>4360382</td>\n",
              "      <td>https://www.fs.com/jp/?main_page=advanced_search_result&amp;keyword=-u&amp;searchSubmit=%EF%85%83</td>\n",
              "      <td>NaN</td>\n",
              "      <td>122.216.200.130</td>\n",
              "      <td>2020-06-06 00:00:00</td>\n",
              "      <td>1</td>\n",
              "      <td>8</td>\n",
              "      <td>2683</td>\n",
              "      <td>0</td>\n",
              "      <td>0</td>\n",
              "      <td>2020-06-06 18:44:16</td>\n",
              "      <td>2020-06-06 18:44:17</td>\n",
              "    </tr>\n",
              "    <tr>\n",
              "      <th>212465</th>\n",
              "      <td>4360383</td>\n",
              "      <td>https://www.fs.com/jp/?main_page=advanced_search_result&amp;keyword=-u+-d&amp;searchSubmit=%EF%85%83</td>\n",
              "      <td>NaN</td>\n",
              "      <td>122.216.200.130</td>\n",
              "      <td>2020-06-06 00:00:00</td>\n",
              "      <td>2</td>\n",
              "      <td>8</td>\n",
              "      <td>1605</td>\n",
              "      <td>0</td>\n",
              "      <td>0</td>\n",
              "      <td>2020-06-06 18:44:32</td>\n",
              "      <td>2020-06-06 18:44:59</td>\n",
              "    </tr>\n",
              "    <tr>\n",
              "      <th>228382</th>\n",
              "      <td>4376300</td>\n",
              "      <td>https://www.fs.com/es/?main_page=advanced_search_result&amp;keyword=-SX-85&amp;searchSubmit=%EF%85%83</td>\n",
              "      <td>NaN</td>\n",
              "      <td>91.126.41.186</td>\n",
              "      <td>2020-06-10 00:00:00</td>\n",
              "      <td>1</td>\n",
              "      <td>2</td>\n",
              "      <td>74</td>\n",
              "      <td>0</td>\n",
              "      <td>0</td>\n",
              "      <td>2020-06-10 04:23:08</td>\n",
              "      <td>2020-06-10 04:23:09</td>\n",
              "    </tr>\n",
              "    <tr>\n",
              "      <th>232758</th>\n",
              "      <td>4380676</td>\n",
              "      <td>https://www.fs.com/?main_page=advanced_search_result&amp;keyword=-T&amp;searchSubmit=%EF%85%83</td>\n",
              "      <td>NaN</td>\n",
              "      <td>119.97.247.170</td>\n",
              "      <td>2020-06-11 00:00:00</td>\n",
              "      <td>1</td>\n",
              "      <td>1</td>\n",
              "      <td>13008</td>\n",
              "      <td>0</td>\n",
              "      <td>0</td>\n",
              "      <td>2020-06-11 00:45:48</td>\n",
              "      <td>2020-06-11 00:46:00</td>\n",
              "    </tr>\n",
              "  </tbody>\n",
              "</table>\n",
              "</div>"
            ],
            "text/plain": [
              "             ID  ...          updated_at\n",
              "110710  4258628  ... 2020-05-12 23:34:45\n",
              "111902  4259820  ... 2020-05-13 02:49:22\n",
              "141288  4289206  ... 2020-05-20 00:22:45\n",
              "153266  4301184  ... 2020-05-22 07:15:53\n",
              "158043  4305961  ... 2020-05-24 22:23:10\n",
              "164578  4312496  ... 2020-05-26 05:45:36\n",
              "176247  4324165  ... 2020-05-28 06:54:08\n",
              "208693  4356611  ... 2020-06-05 03:48:19\n",
              "212464  4360382  ... 2020-06-06 18:44:17\n",
              "212465  4360383  ... 2020-06-06 18:44:59\n",
              "228382  4376300  ... 2020-06-10 04:23:09\n",
              "232758  4380676  ... 2020-06-11 00:46:00\n",
              "\n",
              "[12 rows x 12 columns]"
            ]
          },
          "metadata": {
            "tags": []
          },
          "execution_count": 99
        }
      ]
    },
    {
      "cell_type": "markdown",
      "metadata": {
        "id": "R6k_chDx4AwP",
        "colab_type": "text"
      },
      "source": [
        "no use to our analysis, will drop"
      ]
    },
    {
      "cell_type": "code",
      "metadata": {
        "id": "efGLlnhx4Bdy",
        "colab_type": "code",
        "colab": {}
      },
      "source": [
        "df.dropna(subset=['search_words'], inplace=True)"
      ],
      "execution_count": 0,
      "outputs": []
    },
    {
      "cell_type": "code",
      "metadata": {
        "id": "WVJ8xXp54XSI",
        "colab_type": "code",
        "outputId": "6a747af6-8b7b-4f08-ee5d-1a179114ccf3",
        "colab": {
          "base_uri": "https://localhost:8080/",
          "height": 238
        }
      },
      "source": [
        "df.isnull().sum()"
      ],
      "execution_count": 101,
      "outputs": [
        {
          "output_type": "execute_result",
          "data": {
            "text/plain": [
              "ID                    0\n",
              "visited_page_url      0\n",
              "search_words          0\n",
              "use_ip                0\n",
              "visited_time          0\n",
              "visited_total         0\n",
              "language_id           0\n",
              "result_numbers        0\n",
              "created_person        0\n",
              "updated_person        0\n",
              "created_at            0\n",
              "updated_at          387\n",
              "dtype: int64"
            ]
          },
          "metadata": {
            "tags": []
          },
          "execution_count": 101
        }
      ]
    },
    {
      "cell_type": "markdown",
      "metadata": {
        "id": "LOEHWwTkzTnU",
        "colab_type": "text"
      },
      "source": [
        "##1.2 check duplicate"
      ]
    },
    {
      "cell_type": "code",
      "metadata": {
        "id": "eoJM5-DB1Y8z",
        "colab_type": "code",
        "outputId": "5dc8bbb5-c660-469b-95b1-f3e0eb6eb784",
        "colab": {
          "base_uri": "https://localhost:8080/",
          "height": 49
        }
      },
      "source": [
        "df[df['ID'].duplicated()]"
      ],
      "execution_count": 102,
      "outputs": [
        {
          "output_type": "execute_result",
          "data": {
            "text/html": [
              "<div>\n",
              "<style scoped>\n",
              "    .dataframe tbody tr th:only-of-type {\n",
              "        vertical-align: middle;\n",
              "    }\n",
              "\n",
              "    .dataframe tbody tr th {\n",
              "        vertical-align: top;\n",
              "    }\n",
              "\n",
              "    .dataframe thead th {\n",
              "        text-align: right;\n",
              "    }\n",
              "</style>\n",
              "<table border=\"1\" class=\"dataframe\">\n",
              "  <thead>\n",
              "    <tr style=\"text-align: right;\">\n",
              "      <th></th>\n",
              "      <th>ID</th>\n",
              "      <th>visited_page_url</th>\n",
              "      <th>search_words</th>\n",
              "      <th>use_ip</th>\n",
              "      <th>visited_time</th>\n",
              "      <th>visited_total</th>\n",
              "      <th>language_id</th>\n",
              "      <th>result_numbers</th>\n",
              "      <th>created_person</th>\n",
              "      <th>updated_person</th>\n",
              "      <th>created_at</th>\n",
              "      <th>updated_at</th>\n",
              "    </tr>\n",
              "  </thead>\n",
              "  <tbody>\n",
              "  </tbody>\n",
              "</table>\n",
              "</div>"
            ],
            "text/plain": [
              "Empty DataFrame\n",
              "Columns: [ID, visited_page_url, search_words, use_ip, visited_time, visited_total, language_id, result_numbers, created_person, updated_person, created_at, updated_at]\n",
              "Index: []"
            ]
          },
          "metadata": {
            "tags": []
          },
          "execution_count": 102
        }
      ]
    },
    {
      "cell_type": "markdown",
      "metadata": {
        "id": "yQW71_cF063l",
        "colab_type": "text"
      },
      "source": [
        "##1.3 Feature analysis\n"
      ]
    },
    {
      "cell_type": "markdown",
      "metadata": {
        "id": "GihL5-De1EeU",
        "colab_type": "text"
      },
      "source": [
        "###1.3.1 Search words"
      ]
    },
    {
      "cell_type": "code",
      "metadata": {
        "id": "iJXlzA8Ufsb_",
        "colab_type": "code",
        "outputId": "1eed685a-7209-4137-aae4-18b28040fad4",
        "colab": {
          "base_uri": "https://localhost:8080/",
          "height": 34
        }
      },
      "source": [
        "df['search_words'].nunique()"
      ],
      "execution_count": 103,
      "outputs": [
        {
          "output_type": "execute_result",
          "data": {
            "text/plain": [
              "80103"
            ]
          },
          "metadata": {
            "tags": []
          },
          "execution_count": 103
        }
      ]
    },
    {
      "cell_type": "code",
      "metadata": {
        "id": "rZBvzxiThKu7",
        "colab_type": "code",
        "outputId": "8c81db7f-e42a-4ae0-f8f4-7ad0f6eb52cb",
        "colab": {
          "base_uri": "https://localhost:8080/",
          "height": 255
        }
      },
      "source": [
        "print('Top 10 searched keywords')\n",
        "tempdf = df['search_words'].value_counts().nlargest(10)#.sum()\n",
        "print(tempdf)\n",
        "print('\\ntotal = {} out of {}'.format(df['search_words'].value_counts().nlargest(10).sum(),df.shape[0]))"
      ],
      "execution_count": 104,
      "outputs": [
        {
          "output_type": "stream",
          "text": [
            "Top 10 searched keywords\n",
            "11552              1187\n",
            "sfp                 600\n",
            "11555               594\n",
            "11774               498\n",
            "splitter            448\n",
            "SFP-10GSR-85        411\n",
            "66613               404\n",
            "11773               403\n",
            "media converter     394\n",
            "11775               376\n",
            "Name: search_words, dtype: int64\n",
            "\n",
            "total = 5315 out of 234172\n"
          ],
          "name": "stdout"
        }
      ]
    },
    {
      "cell_type": "markdown",
      "metadata": {
        "id": "9wE690HjyOsi",
        "colab_type": "text"
      },
      "source": [
        "assuming data is extracted from 14 APR to 12 JUN\n"
      ]
    },
    {
      "cell_type": "code",
      "metadata": {
        "id": "ZvHvC-KRoGA0",
        "colab_type": "code",
        "outputId": "ee689535-e388-481d-c7f8-6cee0b9e607d",
        "colab": {
          "base_uri": "https://localhost:8080/",
          "height": 34
        }
      },
      "source": [
        "vc = df['search_words'].value_counts()\n",
        "List=vc[vc <= 1].index.tolist()\n",
        "mapping={}\n",
        "for s in List:\n",
        "    mapping[s]='other'\n",
        "df['search_words2']=df['search_words'].map(lambda x: mapping[x] if x in mapping else x)\n",
        "df['search_words2'].nunique()"
      ],
      "execution_count": 105,
      "outputs": [
        {
          "output_type": "execute_result",
          "data": {
            "text/plain": [
              "19311"
            ]
          },
          "metadata": {
            "tags": []
          },
          "execution_count": 105
        }
      ]
    },
    {
      "cell_type": "code",
      "metadata": {
        "id": "AkkcuPn17Zw9",
        "colab_type": "code",
        "colab": {}
      },
      "source": [
        "List=vc[vc <= 1].index.tolist()"
      ],
      "execution_count": 0,
      "outputs": []
    },
    {
      "cell_type": "code",
      "metadata": {
        "id": "oZ-9vjW4tkqI",
        "colab_type": "code",
        "outputId": "7bfa149d-ec36-4872-8d2c-4a60d88875a2",
        "colab": {
          "base_uri": "https://localhost:8080/",
          "height": 408
        }
      },
      "source": [
        "print('Number of search\\n')\n",
        "vc = df['search_words'].value_counts()\n",
        "b=0\n",
        "for i in range(20):          \n",
        "        a = len(vc[vc == i+1].index.tolist())\n",
        "        print('{} record search {} times'.format(a, i+1))\n",
        "        b=b+a\n",
        "print('total record search less than 20 times = {}'.format(b))"
      ],
      "execution_count": 107,
      "outputs": [
        {
          "output_type": "stream",
          "text": [
            "Number of search\n",
            "\n",
            "60793 record search 1 times\n",
            "7687 record search 2 times\n",
            "2923 record search 3 times\n",
            "1766 record search 4 times\n",
            "1127 record search 5 times\n",
            "834 record search 6 times\n",
            "544 record search 7 times\n",
            "470 record search 8 times\n",
            "342 record search 9 times\n",
            "310 record search 10 times\n",
            "260 record search 11 times\n",
            "262 record search 12 times\n",
            "211 record search 13 times\n",
            "194 record search 14 times\n",
            "170 record search 15 times\n",
            "145 record search 16 times\n",
            "123 record search 17 times\n",
            "122 record search 18 times\n",
            "118 record search 19 times\n",
            "90 record search 20 times\n",
            "total record search less than 20 times = 78491\n"
          ],
          "name": "stdout"
        }
      ]
    },
    {
      "cell_type": "code",
      "metadata": {
        "id": "53vSShzwCDB6",
        "colab_type": "code",
        "outputId": "7bd9668f-ecfd-49f0-ebd8-5019c0a68ab8",
        "colab": {
          "base_uri": "https://localhost:8080/",
          "height": 309
        }
      },
      "source": [
        "df.head()"
      ],
      "execution_count": 108,
      "outputs": [
        {
          "output_type": "execute_result",
          "data": {
            "text/html": [
              "<div>\n",
              "<style scoped>\n",
              "    .dataframe tbody tr th:only-of-type {\n",
              "        vertical-align: middle;\n",
              "    }\n",
              "\n",
              "    .dataframe tbody tr th {\n",
              "        vertical-align: top;\n",
              "    }\n",
              "\n",
              "    .dataframe thead th {\n",
              "        text-align: right;\n",
              "    }\n",
              "</style>\n",
              "<table border=\"1\" class=\"dataframe\">\n",
              "  <thead>\n",
              "    <tr style=\"text-align: right;\">\n",
              "      <th></th>\n",
              "      <th>ID</th>\n",
              "      <th>visited_page_url</th>\n",
              "      <th>search_words</th>\n",
              "      <th>use_ip</th>\n",
              "      <th>visited_time</th>\n",
              "      <th>visited_total</th>\n",
              "      <th>language_id</th>\n",
              "      <th>result_numbers</th>\n",
              "      <th>created_person</th>\n",
              "      <th>updated_person</th>\n",
              "      <th>created_at</th>\n",
              "      <th>updated_at</th>\n",
              "      <th>search_words2</th>\n",
              "    </tr>\n",
              "  </thead>\n",
              "  <tbody>\n",
              "    <tr>\n",
              "      <th>0</th>\n",
              "      <td>4147918</td>\n",
              "      <td>https://www.fs.com/?main_page=advanced_search_result&amp;keyword=OM2-LC-ST-SX-FS-XM&amp;searchSubmit=%EF%85%83</td>\n",
              "      <td>OM2-LC-ST-SX-FS-XM</td>\n",
              "      <td>199.117.238.26</td>\n",
              "      <td>2020-04-14 00:00:00</td>\n",
              "      <td>1</td>\n",
              "      <td>1</td>\n",
              "      <td>0</td>\n",
              "      <td>227527</td>\n",
              "      <td>227527</td>\n",
              "      <td>2020-04-14 13:29:18</td>\n",
              "      <td>2020-04-14 13:29:18</td>\n",
              "      <td>other</td>\n",
              "    </tr>\n",
              "    <tr>\n",
              "      <th>1</th>\n",
              "      <td>4147919</td>\n",
              "      <td>https://www.fs.com/?main_page=advanced_search_result&amp;keyword=30909&amp;searchSubmit=%EF%85%83</td>\n",
              "      <td>30909</td>\n",
              "      <td>71.175.4.156</td>\n",
              "      <td>2020-04-14 00:00:00</td>\n",
              "      <td>1</td>\n",
              "      <td>1</td>\n",
              "      <td>1</td>\n",
              "      <td>229598</td>\n",
              "      <td>229598</td>\n",
              "      <td>2020-04-14 13:29:27</td>\n",
              "      <td>2020-04-14 13:29:27</td>\n",
              "      <td>30909</td>\n",
              "    </tr>\n",
              "    <tr>\n",
              "      <th>2</th>\n",
              "      <td>4147920</td>\n",
              "      <td>https://www.fs.com/?main_page=advanced_search_result&amp;keyword=lc+upc+to+st+simplex&amp;searchSubmit=%EF%85%83</td>\n",
              "      <td>lc upc to st simplex</td>\n",
              "      <td>199.117.238.26</td>\n",
              "      <td>2020-04-14 00:00:00</td>\n",
              "      <td>1</td>\n",
              "      <td>1</td>\n",
              "      <td>24</td>\n",
              "      <td>227527</td>\n",
              "      <td>227527</td>\n",
              "      <td>2020-04-14 13:29:32</td>\n",
              "      <td>2020-04-14 13:29:33</td>\n",
              "      <td>other</td>\n",
              "    </tr>\n",
              "    <tr>\n",
              "      <th>3</th>\n",
              "      <td>4147921</td>\n",
              "      <td>https://www.fs.com/mx/?main_page=advanced_search_result&amp;keyword=12369&amp;searchSubmit=%EF%85%83</td>\n",
              "      <td>12369</td>\n",
              "      <td>45.238.180.13</td>\n",
              "      <td>2020-04-14 00:00:00</td>\n",
              "      <td>1</td>\n",
              "      <td>2</td>\n",
              "      <td>1</td>\n",
              "      <td>0</td>\n",
              "      <td>0</td>\n",
              "      <td>2020-04-14 13:29:34</td>\n",
              "      <td>2020-04-14 13:29:34</td>\n",
              "      <td>12369</td>\n",
              "    </tr>\n",
              "    <tr>\n",
              "      <th>4</th>\n",
              "      <td>4147922</td>\n",
              "      <td>https://www.fs.com/?main_page=advanced_search_result&amp;keyword=30908+&amp;searchSubmit=%EF%85%83</td>\n",
              "      <td>30908</td>\n",
              "      <td>71.175.4.156</td>\n",
              "      <td>2020-04-14 00:00:00</td>\n",
              "      <td>1</td>\n",
              "      <td>1</td>\n",
              "      <td>1</td>\n",
              "      <td>229598</td>\n",
              "      <td>229598</td>\n",
              "      <td>2020-04-14 13:29:44</td>\n",
              "      <td>2020-04-14 13:29:44</td>\n",
              "      <td>30908</td>\n",
              "    </tr>\n",
              "  </tbody>\n",
              "</table>\n",
              "</div>"
            ],
            "text/plain": [
              "        ID  ... search_words2\n",
              "0  4147918  ...         other\n",
              "1  4147919  ...         30909\n",
              "2  4147920  ...         other\n",
              "3  4147921  ...         12369\n",
              "4  4147922  ...         30908\n",
              "\n",
              "[5 rows x 13 columns]"
            ]
          },
          "metadata": {
            "tags": []
          },
          "execution_count": 108
        }
      ]
    },
    {
      "cell_type": "markdown",
      "metadata": {
        "id": "uwrs9MNTWjol",
        "colab_type": "text"
      },
      "source": [
        "####1.3.1.1 Search words to Product ID"
      ]
    },
    {
      "cell_type": "code",
      "metadata": {
        "id": "QTIh5akCQXtx",
        "colab_type": "code",
        "colab": {
          "base_uri": "https://localhost:8080/",
          "height": 213
        },
        "outputId": "147f5a17-01ed-44b1-c709-a05c2897344d"
      },
      "source": [
        "def checkPID(a):\n",
        "  i = str(a)\n",
        "  if ((i.isdigit()) and (len(i)==5)):\n",
        "    return 1\n",
        "  else:\n",
        "    return 0\n",
        "#df['search_words'].astype(str)\n",
        "df['isProductID'] = df['search_words'].apply(checkPID)\n",
        "df.sample(3)"
      ],
      "execution_count": 109,
      "outputs": [
        {
          "output_type": "execute_result",
          "data": {
            "text/html": [
              "<div>\n",
              "<style scoped>\n",
              "    .dataframe tbody tr th:only-of-type {\n",
              "        vertical-align: middle;\n",
              "    }\n",
              "\n",
              "    .dataframe tbody tr th {\n",
              "        vertical-align: top;\n",
              "    }\n",
              "\n",
              "    .dataframe thead th {\n",
              "        text-align: right;\n",
              "    }\n",
              "</style>\n",
              "<table border=\"1\" class=\"dataframe\">\n",
              "  <thead>\n",
              "    <tr style=\"text-align: right;\">\n",
              "      <th></th>\n",
              "      <th>ID</th>\n",
              "      <th>visited_page_url</th>\n",
              "      <th>search_words</th>\n",
              "      <th>use_ip</th>\n",
              "      <th>visited_time</th>\n",
              "      <th>visited_total</th>\n",
              "      <th>language_id</th>\n",
              "      <th>result_numbers</th>\n",
              "      <th>created_person</th>\n",
              "      <th>updated_person</th>\n",
              "      <th>created_at</th>\n",
              "      <th>updated_at</th>\n",
              "      <th>search_words2</th>\n",
              "      <th>isProductID</th>\n",
              "    </tr>\n",
              "  </thead>\n",
              "  <tbody>\n",
              "    <tr>\n",
              "      <th>55451</th>\n",
              "      <td>4203369</td>\n",
              "      <td>https://www.fs.com/?main_page=advanced_search_result&amp;keyword=J9151A&amp;searchSubmit=%EF%85%83</td>\n",
              "      <td>J9151A</td>\n",
              "      <td>59.175.180.242</td>\n",
              "      <td>2020-04-28 00:00:00</td>\n",
              "      <td>1</td>\n",
              "      <td>1</td>\n",
              "      <td>1</td>\n",
              "      <td>129757</td>\n",
              "      <td>129757</td>\n",
              "      <td>2020-04-28 19:06:04</td>\n",
              "      <td>2020-04-28 19:06:04</td>\n",
              "      <td>J9151A</td>\n",
              "      <td>0</td>\n",
              "    </tr>\n",
              "    <tr>\n",
              "      <th>137450</th>\n",
              "      <td>4285368</td>\n",
              "      <td>https://www.fs.com/?main_page=advanced_search_result&amp;keyword=mma1l10-cr&amp;searchSubmit=%EF%85%83</td>\n",
              "      <td>mma1l10-cr</td>\n",
              "      <td>24.96.218.54</td>\n",
              "      <td>2020-05-19 00:00:00</td>\n",
              "      <td>1</td>\n",
              "      <td>1</td>\n",
              "      <td>1</td>\n",
              "      <td>0</td>\n",
              "      <td>0</td>\n",
              "      <td>2020-05-19 07:01:02</td>\n",
              "      <td>2020-05-19 07:01:03</td>\n",
              "      <td>other</td>\n",
              "      <td>0</td>\n",
              "    </tr>\n",
              "    <tr>\n",
              "      <th>137335</th>\n",
              "      <td>4285253</td>\n",
              "      <td>https://www.fs.com/?main_page=advanced_search_result&amp;keyword=97572&amp;searchSubmit=%EF%85%83</td>\n",
              "      <td>97572</td>\n",
              "      <td>80.151.75.26</td>\n",
              "      <td>2020-05-19 00:00:00</td>\n",
              "      <td>1</td>\n",
              "      <td>1</td>\n",
              "      <td>1</td>\n",
              "      <td>0</td>\n",
              "      <td>0</td>\n",
              "      <td>2020-05-19 06:26:58</td>\n",
              "      <td>2020-05-19 06:26:58</td>\n",
              "      <td>97572</td>\n",
              "      <td>1</td>\n",
              "    </tr>\n",
              "  </tbody>\n",
              "</table>\n",
              "</div>"
            ],
            "text/plain": [
              "             ID  ... isProductID\n",
              "55451   4203369  ...           0\n",
              "137450  4285368  ...           0\n",
              "137335  4285253  ...           1\n",
              "\n",
              "[3 rows x 14 columns]"
            ]
          },
          "metadata": {
            "tags": []
          },
          "execution_count": 109
        }
      ]
    },
    {
      "cell_type": "code",
      "metadata": {
        "id": "L3xhxaJgVmE2",
        "colab_type": "code",
        "colab": {
          "base_uri": "https://localhost:8080/",
          "height": 34
        },
        "outputId": "45538f68-fc50-413f-dc67-350f7932b452"
      },
      "source": [
        "print('instance of customer search by actual product ID = {}'.format(df['isProductID'].sum()))"
      ],
      "execution_count": 110,
      "outputs": [
        {
          "output_type": "stream",
          "text": [
            "instance of customer search by actual product ID = 80508\n"
          ],
          "name": "stdout"
        }
      ]
    },
    {
      "cell_type": "code",
      "metadata": {
        "id": "RGv4UBQcpwbh",
        "colab_type": "code",
        "colab": {}
      },
      "source": [
        "df2 = df[df['isProductID'] != 1]"
      ],
      "execution_count": 0,
      "outputs": []
    },
    {
      "cell_type": "code",
      "metadata": {
        "id": "WxL7ykEYp4cZ",
        "colab_type": "code",
        "colab": {
          "base_uri": "https://localhost:8080/",
          "height": 309
        },
        "outputId": "cbf4c439-eef3-4078-fd31-7a73fa94461f"
      },
      "source": [
        "df2.sample(5)"
      ],
      "execution_count": 112,
      "outputs": [
        {
          "output_type": "execute_result",
          "data": {
            "text/html": [
              "<div>\n",
              "<style scoped>\n",
              "    .dataframe tbody tr th:only-of-type {\n",
              "        vertical-align: middle;\n",
              "    }\n",
              "\n",
              "    .dataframe tbody tr th {\n",
              "        vertical-align: top;\n",
              "    }\n",
              "\n",
              "    .dataframe thead th {\n",
              "        text-align: right;\n",
              "    }\n",
              "</style>\n",
              "<table border=\"1\" class=\"dataframe\">\n",
              "  <thead>\n",
              "    <tr style=\"text-align: right;\">\n",
              "      <th></th>\n",
              "      <th>ID</th>\n",
              "      <th>visited_page_url</th>\n",
              "      <th>search_words</th>\n",
              "      <th>use_ip</th>\n",
              "      <th>visited_time</th>\n",
              "      <th>visited_total</th>\n",
              "      <th>language_id</th>\n",
              "      <th>result_numbers</th>\n",
              "      <th>created_person</th>\n",
              "      <th>updated_person</th>\n",
              "      <th>created_at</th>\n",
              "      <th>updated_at</th>\n",
              "      <th>search_words2</th>\n",
              "      <th>isProductID</th>\n",
              "    </tr>\n",
              "  </thead>\n",
              "  <tbody>\n",
              "    <tr>\n",
              "      <th>39883</th>\n",
              "      <td>4187801</td>\n",
              "      <td>https://www.fs.com/?main_page=advanced_search_result&amp;keyword=S5850-48S6Q&amp;searchSubmit=%EF%85%83</td>\n",
              "      <td>S5850-48S6Q</td>\n",
              "      <td>59.175.180.242</td>\n",
              "      <td>2020-04-24 00:00:00</td>\n",
              "      <td>1</td>\n",
              "      <td>1</td>\n",
              "      <td>1</td>\n",
              "      <td>0</td>\n",
              "      <td>0</td>\n",
              "      <td>2020-04-24 01:36:07</td>\n",
              "      <td>2020-04-24 01:36:07</td>\n",
              "      <td>S5850-48S6Q</td>\n",
              "      <td>0</td>\n",
              "    </tr>\n",
              "    <tr>\n",
              "      <th>85880</th>\n",
              "      <td>4233798</td>\n",
              "      <td>https://www.fs.com/?main_page=advanced_search_result&amp;keyword=media+converter&amp;searchSubmit=%EF%85%83</td>\n",
              "      <td>media converter</td>\n",
              "      <td>24.130.59.134</td>\n",
              "      <td>2020-05-06 00:00:00</td>\n",
              "      <td>1</td>\n",
              "      <td>1</td>\n",
              "      <td>24</td>\n",
              "      <td>0</td>\n",
              "      <td>0</td>\n",
              "      <td>2020-05-06 15:32:42</td>\n",
              "      <td>2020-05-06 15:32:42</td>\n",
              "      <td>media converter</td>\n",
              "      <td>0</td>\n",
              "    </tr>\n",
              "    <tr>\n",
              "      <th>60506</th>\n",
              "      <td>4208424</td>\n",
              "      <td>https://www.fs.com/de/?main_page=advanced_search_result&amp;keyword=SFP-10G-BX10&amp;searchSubmit=%EF%85%83</td>\n",
              "      <td>SFP-10G-BX10</td>\n",
              "      <td>173.160.217.249</td>\n",
              "      <td>2020-04-29 00:00:00</td>\n",
              "      <td>1</td>\n",
              "      <td>5</td>\n",
              "      <td>24</td>\n",
              "      <td>0</td>\n",
              "      <td>0</td>\n",
              "      <td>2020-04-29 16:56:31</td>\n",
              "      <td>2020-04-29 16:56:32</td>\n",
              "      <td>SFP-10G-BX10</td>\n",
              "      <td>0</td>\n",
              "    </tr>\n",
              "    <tr>\n",
              "      <th>114465</th>\n",
              "      <td>4262383</td>\n",
              "      <td>https://www.fs.com/?main_page=advanced_search_result&amp;keyword=media+converter&amp;searchSubmit=%EF%85%83</td>\n",
              "      <td>media converter</td>\n",
              "      <td>87.180.125.96</td>\n",
              "      <td>2020-05-13 00:00:00</td>\n",
              "      <td>1</td>\n",
              "      <td>1</td>\n",
              "      <td>24</td>\n",
              "      <td>0</td>\n",
              "      <td>0</td>\n",
              "      <td>2020-05-13 12:57:20</td>\n",
              "      <td>2020-05-13 12:57:21</td>\n",
              "      <td>media converter</td>\n",
              "      <td>0</td>\n",
              "    </tr>\n",
              "    <tr>\n",
              "      <th>87622</th>\n",
              "      <td>4235540</td>\n",
              "      <td>https://www.fs.com/es/?main_page=advanced_search_result&amp;keyword=breakout+10m&amp;searchSubmit=%EF%85%83</td>\n",
              "      <td>breakout 10m</td>\n",
              "      <td>80.102.82.104</td>\n",
              "      <td>2020-05-07 00:00:00</td>\n",
              "      <td>3</td>\n",
              "      <td>2</td>\n",
              "      <td>39</td>\n",
              "      <td>0</td>\n",
              "      <td>0</td>\n",
              "      <td>2020-05-07 00:25:00</td>\n",
              "      <td>2020-05-07 00:26:33</td>\n",
              "      <td>breakout 10m</td>\n",
              "      <td>0</td>\n",
              "    </tr>\n",
              "  </tbody>\n",
              "</table>\n",
              "</div>"
            ],
            "text/plain": [
              "             ID  ... isProductID\n",
              "39883   4187801  ...           0\n",
              "85880   4233798  ...           0\n",
              "60506   4208424  ...           0\n",
              "114465  4262383  ...           0\n",
              "87622   4235540  ...           0\n",
              "\n",
              "[5 rows x 14 columns]"
            ]
          },
          "metadata": {
            "tags": []
          },
          "execution_count": 112
        }
      ]
    },
    {
      "cell_type": "code",
      "metadata": {
        "id": "SVvZfI4bqBav",
        "colab_type": "code",
        "colab": {
          "base_uri": "https://localhost:8080/",
          "height": 935
        },
        "outputId": "fc99fb97-87d9-40ba-94ef-8a3af2b954bc"
      },
      "source": [
        "print('Top 10 searched keywords[took out product ID search]')\n",
        "tempdf = df2['search_words'].value_counts().nlargest(50)#.sum()\n",
        "print(tempdf)\n",
        "print('\\ntotal = {} out of {}'.format(df2['search_words'].value_counts().nlargest(10).sum(),df2.shape[0]))"
      ],
      "execution_count": 113,
      "outputs": [
        {
          "output_type": "stream",
          "text": [
            "Top 10 searched keywords[took out product ID search]\n",
            "sfp                600\n",
            "splitter           448\n",
            "SFP-10GSR-85       411\n",
            "media converter    394\n",
            "keystone           375\n",
            "patch panel        341\n",
            "attenuator         297\n",
            "SFP-10G-SR         295\n",
            "SFP-10GLR-31       293\n",
            "SFP                262\n",
            "SFP-10G-LR         261\n",
            "SFP1G-LX-31        259\n",
            "SFP-GB-GE-T        248\n",
            "qsfp               226\n",
            "SFP1G-SX-85        215\n",
            "dac                206\n",
            "GLC-LH-SMD         197\n",
            "100957             192\n",
            "coupler            189\n",
            "gpon               184\n",
            "pigtail            182\n",
            "J9150D             176\n",
            "S3900-24T4S        174\n",
            "mpo                172\n",
            "S5850-48S6Q        171\n",
            "S3900-48T4S        170\n",
            "fhd                165\n",
            "rj45               163\n",
            "dwdm               163\n",
            "ubiquiti           162\n",
            "SFP-10G-T          162\n",
            "S3900              162\n",
            "pdu                162\n",
            "mikrotik           160\n",
            "cwdm               156\n",
            "loopback           156\n",
            "S5800-8TF12S       156\n",
            "N5850-48S6Q        156\n",
            "cat6               154\n",
            "breakout           153\n",
            "breakout cable     146\n",
            "adapter            145\n",
            "GLC-SX-MMD         143\n",
            "S5500-48T8SP       142\n",
            "10G SFP            140\n",
            "S5850-48T4Q        140\n",
            "100969             139\n",
            "fs box             138\n",
            "poe                137\n",
            "FHD                135\n",
            "Name: search_words, dtype: int64\n",
            "\n",
            "total = 3716 out of 153664\n"
          ],
          "name": "stdout"
        }
      ]
    },
    {
      "cell_type": "markdown",
      "metadata": {
        "id": "Hk6H4_S225vG",
        "colab_type": "text"
      },
      "source": [
        "###1.3.2 Country based on url"
      ]
    },
    {
      "cell_type": "code",
      "metadata": {
        "id": "bogl9SfuE2fT",
        "colab_type": "code",
        "colab": {}
      },
      "source": [
        "pd.options.display.max_colwidth = 200"
      ],
      "execution_count": 0,
      "outputs": []
    },
    {
      "cell_type": "code",
      "metadata": {
        "id": "8MXRpbMYEUc-",
        "colab_type": "code",
        "colab": {
          "base_uri": "https://localhost:8080/",
          "height": 374
        },
        "outputId": "e89d8e21-d6d3-4f40-e32f-3f082faa216c"
      },
      "source": [
        "df['visited_page_url'].tail(20)"
      ],
      "execution_count": 115,
      "outputs": [
        {
          "output_type": "execute_result",
          "data": {
            "text/plain": [
              "234164                                                                     https://www.fs.com/ru/?main_page=advanced_search_result&keyword=72420&searchSubmit=%EF%85%83\n",
              "234165                                                                    https://www.fs.com/de/?main_page=advanced_search_result&keyword=105883&searchSubmit=%EF%85%83\n",
              "234166                                                                        https://www.fs.com/?main_page=advanced_search_result&keyword=74481&searchSubmit=%EF%85%83\n",
              "234167                                                                     https://www.fs.com/ru/?main_page=advanced_search_result&keyword=72448&searchSubmit=%EF%85%83\n",
              "234168                                                                     https://www.fs.com/ru/?main_page=advanced_search_result&keyword=26389&searchSubmit=%EF%85%83\n",
              "234169                                                       https://www.fs.com/au/?main_page=advanced_search_result&keyword=FIBER+CLEAVING+TOOL&searchSubmit=%EF%85%83\n",
              "234170                                                                   https://www.fs.com/au/?main_page=advanced_search_result&keyword=cleaver&searchSubmit=%EF%85%83\n",
              "234171                                                                    https://www.fs.com/de-en/?main_page=advanced_search_result&keyword=aoc&searchSubmit=%EF%85%83\n",
              "234172                                                             https://www.fs.com/?main_page=advanced_search_result&keyword=E100G-QSFP28-SR4&searchSubmit=%EF%85%83\n",
              "234173    https://jeremy.whgxwl.com:6060/?main_page=advanced_search_result&keyword=http%3A%2F%2Fjeremy.whgxwl.com%3A6060%2Fproducts%2F48812.html&searchSubmit=%EF%85%83\n",
              "234174                                                            https://jeremy.whgxwl.com:6060/?main_page=advanced_search_result&keyword=11552&searchSubmit=%EF%85%83\n",
              "234175                                                            https://jeremy.whgxwl.com:6060/?main_page=advanced_search_result&keyword=64620&searchSubmit=%EF%85%83\n",
              "234176                                                         https://jeremy.whgxwl.com:6060/de/?main_page=advanced_search_result&keyword=48355&searchSubmit=%EF%85%83\n",
              "234177                                                         https://jeremy.whgxwl.com:6060/de/?main_page=advanced_search_result&keyword=11552&searchSubmit=%EF%85%83\n",
              "234178                                                            https://jeremy.whgxwl.com:6060/?main_page=advanced_search_result&keyword=11552&searchSubmit=%EF%85%83\n",
              "234179                                                      https://jeremy.whgxwl.com:6060/de-en/?main_page=advanced_search_result&keyword=11555&searchSubmit=%EF%85%83\n",
              "234180                                                         https://jeremy.whgxwl.com:6060/fr/?main_page=advanced_search_result&keyword=48354&searchSubmit=%EF%85%83\n",
              "234181                                                      https://jeremy.whgxwl.com:6060/de-en/?main_page=advanced_search_result&keyword=11552&searchSubmit=%EF%85%83\n",
              "234182                                                      https://jeremy.whgxwl.com:6060/de-en/?main_page=advanced_search_result&keyword=64186&searchSubmit=%EF%85%83\n",
              "234183                                              https://jeremy.whgxwl.com:6060/?main_page=advanced_search_result&keyword=Glass+Optical+Fiber&searchSubmit=%EF%85%83\n",
              "Name: visited_page_url, dtype: object"
            ]
          },
          "metadata": {
            "tags": []
          },
          "execution_count": 115
        }
      ]
    },
    {
      "cell_type": "markdown",
      "metadata": {
        "id": "Y5kaGIWHpVVY",
        "colab_type": "text"
      },
      "source": [
        "filter based on jeremy website. jeremy website belongs to UAT site, should not appear here, hence drop"
      ]
    },
    {
      "cell_type": "code",
      "metadata": {
        "id": "1YVCZA2DpUq-",
        "colab_type": "code",
        "colab": {
          "base_uri": "https://localhost:8080/",
          "height": 272
        },
        "outputId": "162dbd63-a20f-420f-b368-6f6fc20def82"
      },
      "source": [
        "df[df['visited_page_url'].str.contains(\"jeremy\")].count()"
      ],
      "execution_count": 116,
      "outputs": [
        {
          "output_type": "execute_result",
          "data": {
            "text/plain": [
              "ID                  11\n",
              "visited_page_url    11\n",
              "search_words        11\n",
              "use_ip              11\n",
              "visited_time        11\n",
              "visited_total       11\n",
              "language_id         11\n",
              "result_numbers      11\n",
              "created_person      11\n",
              "updated_person      11\n",
              "created_at          11\n",
              "updated_at          11\n",
              "search_words2       11\n",
              "isProductID         11\n",
              "dtype: int64"
            ]
          },
          "metadata": {
            "tags": []
          },
          "execution_count": 116
        }
      ]
    },
    {
      "cell_type": "code",
      "metadata": {
        "id": "0_7jGnodqbg2",
        "colab_type": "code",
        "colab": {}
      },
      "source": [
        "df.drop(df[df['visited_page_url'].str.contains(\"jeremy\")].index, inplace=True)"
      ],
      "execution_count": 0,
      "outputs": []
    },
    {
      "cell_type": "code",
      "metadata": {
        "id": "IjJp5lFTqiF2",
        "colab_type": "code",
        "colab": {
          "base_uri": "https://localhost:8080/",
          "height": 272
        },
        "outputId": "be1b57a1-5e97-4bcb-bf04-17e06264c5f2"
      },
      "source": [
        "df[df['visited_page_url'].str.contains(\"jeremy\")].count()"
      ],
      "execution_count": 118,
      "outputs": [
        {
          "output_type": "execute_result",
          "data": {
            "text/plain": [
              "ID                  0\n",
              "visited_page_url    0\n",
              "search_words        0\n",
              "use_ip              0\n",
              "visited_time        0\n",
              "visited_total       0\n",
              "language_id         0\n",
              "result_numbers      0\n",
              "created_person      0\n",
              "updated_person      0\n",
              "created_at          0\n",
              "updated_at          0\n",
              "search_words2       0\n",
              "isProductID         0\n",
              "dtype: int64"
            ]
          },
          "metadata": {
            "tags": []
          },
          "execution_count": 118
        }
      ]
    },
    {
      "cell_type": "code",
      "metadata": {
        "id": "2H9wdCHKDG8I",
        "colab_type": "code",
        "colab": {
          "base_uri": "https://localhost:8080/",
          "height": 51
        },
        "outputId": "2092f692-2228-48b0-cce0-4145275bc2bd"
      },
      "source": [
        "df[['homepage','theRest1']] = df['visited_page_url'].str.split(r'com/', n = 1, expand = True) \n",
        "df[['theRest1','theRest2']] = df['theRest1'].str.split(r'/?', n = 1, expand = True) "
      ],
      "execution_count": 119,
      "outputs": [
        {
          "output_type": "stream",
          "text": [
            "/usr/local/lib/python3.6/dist-packages/pandas/core/strings.py:1494: FutureWarning: split() requires a non-empty pattern match.\n",
            "  f = lambda x: regex.split(x, maxsplit=n)\n"
          ],
          "name": "stderr"
        }
      ]
    },
    {
      "cell_type": "code",
      "metadata": {
        "id": "mzPXmh1Ttm93",
        "colab_type": "code",
        "colab": {
          "base_uri": "https://localhost:8080/",
          "height": 238
        },
        "outputId": "9a2e1627-8e7e-4404-faf2-ba3d8279d3bf"
      },
      "source": [
        "df['Country'] = df['theRest1'].map(lambda x: x if (len(x) < 6) and (len(x) > 1) else 'unidentified')\n",
        "df['Country'].value_counts()"
      ],
      "execution_count": 120,
      "outputs": [
        {
          "output_type": "execute_result",
          "data": {
            "text/plain": [
              "unidentified    149457\n",
              "de-en            18629\n",
              "de               18213\n",
              "au               10874\n",
              "uk                9454\n",
              "fr                8211\n",
              "es                4747\n",
              "sg                4336\n",
              "ru                4284\n",
              "mx                3472\n",
              "jp                2459\n",
              "it                  25\n",
              "Name: Country, dtype: int64"
            ]
          },
          "metadata": {
            "tags": []
          },
          "execution_count": 120
        }
      ]
    },
    {
      "cell_type": "code",
      "metadata": {
        "id": "pOS4Oc0HxLIC",
        "colab_type": "code",
        "colab": {}
      },
      "source": [
        "#df['Country_isspace'] = map(lambda x: x.isspace(), df['Country'])"
      ],
      "execution_count": 0,
      "outputs": []
    },
    {
      "cell_type": "code",
      "metadata": {
        "id": "UvKAH_tyu19L",
        "colab_type": "code",
        "colab": {
          "base_uri": "https://localhost:8080/",
          "height": 213
        },
        "outputId": "3e91f216-591d-40c5-8e27-187ac7edb403"
      },
      "source": [
        "df[df['Country'].str.contains(\"unidentified\")].sample(3)"
      ],
      "execution_count": 145,
      "outputs": [
        {
          "output_type": "execute_result",
          "data": {
            "text/html": [
              "<div>\n",
              "<style scoped>\n",
              "    .dataframe tbody tr th:only-of-type {\n",
              "        vertical-align: middle;\n",
              "    }\n",
              "\n",
              "    .dataframe tbody tr th {\n",
              "        vertical-align: top;\n",
              "    }\n",
              "\n",
              "    .dataframe thead th {\n",
              "        text-align: right;\n",
              "    }\n",
              "</style>\n",
              "<table border=\"1\" class=\"dataframe\">\n",
              "  <thead>\n",
              "    <tr style=\"text-align: right;\">\n",
              "      <th></th>\n",
              "      <th>ID</th>\n",
              "      <th>visited_page_url</th>\n",
              "      <th>search_words</th>\n",
              "      <th>use_ip</th>\n",
              "      <th>visited_time</th>\n",
              "      <th>visited_total</th>\n",
              "      <th>language_id</th>\n",
              "      <th>result_numbers</th>\n",
              "      <th>created_person</th>\n",
              "      <th>updated_person</th>\n",
              "      <th>created_at</th>\n",
              "      <th>updated_at</th>\n",
              "      <th>search_words2</th>\n",
              "      <th>isProductID</th>\n",
              "      <th>homepage</th>\n",
              "      <th>theRest1</th>\n",
              "      <th>theRest2</th>\n",
              "      <th>Country</th>\n",
              "    </tr>\n",
              "  </thead>\n",
              "  <tbody>\n",
              "    <tr>\n",
              "      <th>69484</th>\n",
              "      <td>4217402</td>\n",
              "      <td>https://www.fs.com/?main_page=advanced_search_result&amp;keyword=40%EF%BC%A7+850nm&amp;searchSubmit=Search</td>\n",
              "      <td>40锛?850nm</td>\n",
              "      <td>223.104.63.32</td>\n",
              "      <td>2020-05-03 00:00:00</td>\n",
              "      <td>1</td>\n",
              "      <td>1</td>\n",
              "      <td>0</td>\n",
              "      <td>0</td>\n",
              "      <td>0</td>\n",
              "      <td>2020-05-03 05:19:13</td>\n",
              "      <td>2020-05-03 05:19:13</td>\n",
              "      <td>40锛?850nm</td>\n",
              "      <td>0</td>\n",
              "      <td>https://www.fs.</td>\n",
              "      <td>?main_page=advanced_search_result&amp;keyword=40%EF%BC%A7+850nm&amp;searchSubmit=Search</td>\n",
              "      <td>None</td>\n",
              "      <td>unidentified</td>\n",
              "    </tr>\n",
              "    <tr>\n",
              "      <th>13662</th>\n",
              "      <td>4161580</td>\n",
              "      <td>https://www.fs.com/?main_page=advanced_search_result&amp;keyword=CMH-SFD2U&amp;searchSubmit=%EF%85%83</td>\n",
              "      <td>CMH-SFD2U</td>\n",
              "      <td>27.16.223.184</td>\n",
              "      <td>2020-04-17 00:00:00</td>\n",
              "      <td>1</td>\n",
              "      <td>1</td>\n",
              "      <td>1</td>\n",
              "      <td>0</td>\n",
              "      <td>0</td>\n",
              "      <td>2020-04-17 07:10:48</td>\n",
              "      <td>2020-04-17 07:10:49</td>\n",
              "      <td>CMH-SFD2U</td>\n",
              "      <td>0</td>\n",
              "      <td>https://www.fs.</td>\n",
              "      <td>?main_page=advanced_search_result&amp;keyword=CMH-SFD2U&amp;searchSubmit=%EF%85%83</td>\n",
              "      <td>None</td>\n",
              "      <td>unidentified</td>\n",
              "    </tr>\n",
              "    <tr>\n",
              "      <th>204986</th>\n",
              "      <td>4352904</td>\n",
              "      <td>https://www.fs.com/?main_page=advanced_search_result&amp;keyword=SFP-H10GB-CU+&amp;searchSubmit=%EF%85%83</td>\n",
              "      <td>SFP-H10GB-CU</td>\n",
              "      <td>137.69.117.201</td>\n",
              "      <td>2020-06-04 00:00:00</td>\n",
              "      <td>1</td>\n",
              "      <td>1</td>\n",
              "      <td>19</td>\n",
              "      <td>0</td>\n",
              "      <td>0</td>\n",
              "      <td>2020-06-04 11:17:20</td>\n",
              "      <td>2020-06-04 11:17:22</td>\n",
              "      <td>SFP-H10GB-CU</td>\n",
              "      <td>0</td>\n",
              "      <td>https://www.fs.</td>\n",
              "      <td>?main_page=advanced_search_result&amp;keyword=SFP-H10GB-CU+&amp;searchSubmit=%EF%85%83</td>\n",
              "      <td>None</td>\n",
              "      <td>unidentified</td>\n",
              "    </tr>\n",
              "  </tbody>\n",
              "</table>\n",
              "</div>"
            ],
            "text/plain": [
              "             ID  ...       Country\n",
              "69484   4217402  ...  unidentified\n",
              "13662   4161580  ...  unidentified\n",
              "204986  4352904  ...  unidentified\n",
              "\n",
              "[3 rows x 18 columns]"
            ]
          },
          "metadata": {
            "tags": []
          },
          "execution_count": 145
        }
      ]
    },
    {
      "cell_type": "markdown",
      "metadata": {
        "id": "6m0uuQYzIXEe",
        "colab_type": "text"
      },
      "source": [
        "###1.3.3 search result based on url"
      ]
    },
    {
      "cell_type": "code",
      "metadata": {
        "id": "3W8onRhaIUf7",
        "colab_type": "code",
        "colab": {}
      },
      "source": [
        "from bs4 import BeautifulSoup, SoupStrainer\n",
        "import requests\n",
        "\n",
        "def getData(i):\n",
        "  url=i\n",
        "\n",
        "  # Make a GET request to fetch the raw HTML content\n",
        "  html_content = requests.get(url).text\n",
        "  #strainer = SoupStrainer('form', attrs={'id': 'form1'})\n",
        "  # Parse the html content\n",
        "  soup = BeautifulSoup(html_content, \"lxml\")\n",
        "  #mydivs = soup.select('div[class=\"new_proList_proListTIB\"] > span')\\\n",
        "  try:\n",
        "    mydivs = soup.find('h1', {'class': 'new_proList_proListTit'}).contents[2].strip()\n",
        "  except:\n",
        "    #mydivs = soup.find('p', {'class': 'search_404_Sorry'}).text\n",
        "    mydivs = 0\n",
        "    #pass\n",
        "  return mydivs"
      ],
      "execution_count": 0,
      "outputs": []
    },
    {
      "cell_type": "code",
      "metadata": {
        "id": "dvFiqniVVKBF",
        "colab_type": "code",
        "colab": {}
      },
      "source": [
        "tempdf = pd.DataFrame({'url':  ['https://www.fs.com/?main_page=advanced_search_result&keyword=40%EF%BC%A7+850nm&searchSubmit=Search', \n",
        "                               'https://www.fs.com/?main_page=advanced_search_result&keyword=CMH-SFD2U&searchSubmit=%EF%85%83',\n",
        "                               'https://www.fs.com/?main_page=advanced_search_result&keyword=SFP-H10GB-CU+&searchSubmit=%EF%85%83'\n",
        "                               ]})"
      ],
      "execution_count": 0,
      "outputs": []
    },
    {
      "cell_type": "code",
      "metadata": {
        "id": "mVSJBJSPRjTY",
        "colab_type": "code",
        "colab": {}
      },
      "source": [
        "tempdf['searchResultQTY'] = tempdf['url'].apply(getData)"
      ],
      "execution_count": 0,
      "outputs": []
    },
    {
      "cell_type": "code",
      "metadata": {
        "id": "JtC8CCXEZqKb",
        "colab_type": "code",
        "colab": {
          "base_uri": "https://localhost:8080/",
          "height": 142
        },
        "outputId": "7f8aa7d0-8232-492e-9a0e-76ca2803af91"
      },
      "source": [
        "tempdf[['searchResultQTY','url']]"
      ],
      "execution_count": 199,
      "outputs": [
        {
          "output_type": "execute_result",
          "data": {
            "text/html": [
              "<div>\n",
              "<style scoped>\n",
              "    .dataframe tbody tr th:only-of-type {\n",
              "        vertical-align: middle;\n",
              "    }\n",
              "\n",
              "    .dataframe tbody tr th {\n",
              "        vertical-align: top;\n",
              "    }\n",
              "\n",
              "    .dataframe thead th {\n",
              "        text-align: right;\n",
              "    }\n",
              "</style>\n",
              "<table border=\"1\" class=\"dataframe\">\n",
              "  <thead>\n",
              "    <tr style=\"text-align: right;\">\n",
              "      <th></th>\n",
              "      <th>searchResultQTY</th>\n",
              "      <th>url</th>\n",
              "    </tr>\n",
              "  </thead>\n",
              "  <tbody>\n",
              "    <tr>\n",
              "      <th>0</th>\n",
              "      <td>0</td>\n",
              "      <td>https://www.fs.com/?main_page=advanced_search_result&amp;keyword=40%EF%BC%A7+850nm&amp;searchSubmit=Search</td>\n",
              "    </tr>\n",
              "    <tr>\n",
              "      <th>1</th>\n",
              "      <td>1</td>\n",
              "      <td>https://www.fs.com/?main_page=advanced_search_result&amp;keyword=CMH-SFD2U&amp;searchSubmit=%EF%85%83</td>\n",
              "    </tr>\n",
              "    <tr>\n",
              "      <th>2</th>\n",
              "      <td>19</td>\n",
              "      <td>https://www.fs.com/?main_page=advanced_search_result&amp;keyword=SFP-H10GB-CU+&amp;searchSubmit=%EF%85%83</td>\n",
              "    </tr>\n",
              "  </tbody>\n",
              "</table>\n",
              "</div>"
            ],
            "text/plain": [
              "  searchResultQTY                                                                                                 url\n",
              "0               0  https://www.fs.com/?main_page=advanced_search_result&keyword=40%EF%BC%A7+850nm&searchSubmit=Search\n",
              "1               1       https://www.fs.com/?main_page=advanced_search_result&keyword=CMH-SFD2U&searchSubmit=%EF%85%83\n",
              "2              19   https://www.fs.com/?main_page=advanced_search_result&keyword=SFP-H10GB-CU+&searchSubmit=%EF%85%83"
            ]
          },
          "metadata": {
            "tags": []
          },
          "execution_count": 199
        }
      ]
    },
    {
      "cell_type": "code",
      "metadata": {
        "id": "pqPPBsyqZ7dx",
        "colab_type": "code",
        "colab": {}
      },
      "source": [
        "List1 = df['visited_page_url'].apply(getData).tolist()\n",
        "#df[['searchResultQTY','url']].sample(5)"
      ],
      "execution_count": 0,
      "outputs": []
    }
  ]
}